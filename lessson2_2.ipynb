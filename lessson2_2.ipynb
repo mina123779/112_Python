{
 "cells": [
  {
   "cell_type": "code",
   "execution_count": 5,
   "metadata": {},
   "outputs": [
    {
     "name": "stdout",
     "output_type": "stream",
     "text": [
      "15\n"
     ]
    }
   ],
   "source": [
    "n = 5\n",
    "m = 10\n",
    "result = input(f\"請輸入{n} + {m} 數值:\")\n",
    "#(f\"請輸入{n} + {m} 數值:\")提示使用者裡面要輸入什麼，只能輸入一個字串\n",
    "print(result)"
   ]
  },
  {
   "cell_type": "code",
   "execution_count": 11,
   "metadata": {},
   "outputs": [
    {
     "name": "stdout",
     "output_type": "stream",
     "text": [
      "總合為 = 3.0\n"
     ]
    }
   ],
   "source": [
    "#請輸入第一個數:87.9\n",
    "#請輸入第二個數:45\n",
    "#請輸入等三個數:87.5\n",
    "result = 0\n",
    "n = float(input(\"請輸入第1個數:\"))\n",
    "result += n\n",
    "n = float(input(\"請輸入第2個數:\"))\n",
    "result += n\n",
    "n = float(input(\"請輸入第3個數:\"))\n",
    "result += n\n",
    "\n",
    "print(f\"總合為 = {result}\")"
   ]
  }
 ],
 "metadata": {
  "kernelspec": {
   "display_name": "Python 3",
   "language": "python",
   "name": "python3"
  },
  "language_info": {
   "codemirror_mode": {
    "name": "ipython",
    "version": 3
   },
   "file_extension": ".py",
   "mimetype": "text/x-python",
   "name": "python",
   "nbconvert_exporter": "python",
   "pygments_lexer": "ipython3",
   "version": "3.10.4"
  },
  "orig_nbformat": 4
 },
 "nbformat": 4,
 "nbformat_minor": 2
}
