{
 "cells": [
  {
   "cell_type": "code",
   "execution_count": 4,
   "metadata": {},
   "outputs": [],
   "source": [
    "import random #輸入 #隨機亂數\n",
    "\n",
    "def generate_stu() :\n",
    "    return [random.randint(50,100),random.randint(50,100),random.randint(50,100),random.randint(50,100),random.randint(50,100)]\n",
    "    #random.randint(50,100)=標準函式庫公式，(a,b)=(50到1002的值)"
   ]
  },
  {
   "cell_type": "code",
   "execution_count": 5,
   "metadata": {},
   "outputs": [
    {
     "data": {
      "text/plain": [
       "[[93, 55, 96, 75, 81], [82, 99, 52, 100, 88], [65, 75, 93, 72, 81]]"
      ]
     },
     "execution_count": 5,
     "metadata": {},
     "output_type": "execute_result"
    }
   ],
   "source": [
    "students = [generate_stu(),generate_stu(),generate_stu()] #3個學生 #0.1.2\n",
    "students"
   ]
  },
  {
   "cell_type": "code",
   "execution_count": 9,
   "metadata": {},
   "outputs": [
    {
     "data": {
      "text/plain": [
       "[65, 75, 93, 72, 81]"
      ]
     },
     "execution_count": 9,
     "metadata": {},
     "output_type": "execute_result"
    }
   ],
   "source": [
    "students [2] #[]代入第幾個學生"
   ]
  },
  {
   "cell_type": "code",
   "execution_count": 10,
   "metadata": {},
   "outputs": [
    {
     "data": {
      "text/plain": [
       "[82, 99, 52, 100, 88]"
      ]
     },
     "execution_count": 10,
     "metadata": {},
     "output_type": "execute_result"
    }
   ],
   "source": [
    "students[1] #代入1的學生"
   ]
  },
  {
   "cell_type": "code",
   "execution_count": 12,
   "metadata": {},
   "outputs": [
    {
     "data": {
      "text/plain": [
       "93"
      ]
     },
     "execution_count": 12,
     "metadata": {},
     "output_type": "execute_result"
    }
   ],
   "source": [
    "students [0][0] #代入第1個學生的第1個成績"
   ]
  },
  {
   "cell_type": "code",
   "execution_count": 13,
   "metadata": {},
   "outputs": [
    {
     "name": "stdout",
     "output_type": "stream",
     "text": [
      "[93, 55, 96, 75, 81]\n",
      "[82, 99, 52, 100, 88]\n",
      "[65, 75, 93, 72, 81]\n"
     ]
    }
   ],
   "source": [
    "for student in students: #代入所有學生的成績\n",
    "    print(student)"
   ]
  },
  {
   "cell_type": "code",
   "execution_count": 14,
   "metadata": {},
   "outputs": [
    {
     "name": "stdout",
     "output_type": "stream",
     "text": [
      "93\n",
      "55\n",
      "96\n",
      "75\n",
      "81\n",
      "===================\n",
      "82\n",
      "99\n",
      "52\n",
      "100\n",
      "88\n",
      "===================\n",
      "65\n",
      "75\n",
      "93\n",
      "72\n",
      "81\n",
      "===================\n"
     ]
    }
   ],
   "source": [
    "for student in students: #代入所有學生的成績\n",
    "    for value in student: #代入所有學生的成績的值\n",
    "        print(value) #印出值\n",
    "    print(\"===================\") #印出分隔線"
   ]
  }
 ],
 "metadata": {
  "kernelspec": {
   "display_name": "Python 3",
   "language": "python",
   "name": "python3"
  },
  "language_info": {
   "codemirror_mode": {
    "name": "ipython",
    "version": 3
   },
   "file_extension": ".py",
   "mimetype": "text/x-python",
   "name": "python",
   "nbconvert_exporter": "python",
   "pygments_lexer": "ipython3",
   "version": "3.9.16"
  },
  "orig_nbformat": 4
 },
 "nbformat": 4,
 "nbformat_minor": 2
}
