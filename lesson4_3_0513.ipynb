{
 "cells": [
  {
   "cell_type": "code",
   "execution_count": 4,
   "metadata": {},
   "outputs": [],
   "source": [
    "import random #輸入 #隨機亂數\n",
    "\n",
    "def generate_stu() :\n",
    "    return [random.randint(50,100),random.randint(50,100),random.randint(50,100),random.randint(50,100),random.randint(50,100)]\n",
    "    #random.randint(50,100)=標準函式庫公式，(a,b)=(50到1002的值)"
   ]
  },
  {
   "cell_type": "code",
   "execution_count": 5,
   "metadata": {},
   "outputs": [
    {
     "data": {
      "text/plain": [
       "[[93, 55, 96, 75, 81], [82, 99, 52, 100, 88], [65, 75, 93, 72, 81]]"
      ]
     },
     "execution_count": 5,
     "metadata": {},
     "output_type": "execute_result"
    }
   ],
   "source": [
    "students = [generate_stu(),generate_stu(),generate_stu()]\n",
    "students"
   ]
  }
 ],
 "metadata": {
  "kernelspec": {
   "display_name": "Python 3",
   "language": "python",
   "name": "python3"
  },
  "language_info": {
   "codemirror_mode": {
    "name": "ipython",
    "version": 3
   },
   "file_extension": ".py",
   "mimetype": "text/x-python",
   "name": "python",
   "nbconvert_exporter": "python",
   "pygments_lexer": "ipython3",
   "version": "3.9.16"
  },
  "orig_nbformat": 4
 },
 "nbformat": 4,
 "nbformat_minor": 2
}
