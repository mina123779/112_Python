{
 "cells": [
  {
   "cell_type": "code",
   "execution_count": 2,
   "metadata": {},
   "outputs": [],
   "source": [
    "#自訂的function,1個參數\n",
    "def get_factor(para1): #para=自訂的參數\n",
    "    print(f\"{para1}的因數是:\")\n",
    "    for i in range(1,para1+1):\n",
    "        if para1 % i == 0:\n",
    "            print(i)\n",
    "    print(\"===============結束\")"
   ]
  },
  {
   "cell_type": "code",
   "execution_count": 4,
   "metadata": {},
   "outputs": [
    {
     "name": "stdout",
     "output_type": "stream",
     "text": [
      "10的因數是:\n",
      "1\n",
      "2\n",
      "5\n",
      "10\n",
      "===============結束\n"
     ]
    }
   ],
   "source": [
    "get_factor(10) #10代入參數para"
   ]
  },
  {
   "cell_type": "code",
   "execution_count": 14,
   "metadata": {},
   "outputs": [
    {
     "name": "stdout",
     "output_type": "stream",
     "text": [
      "5的因數是:\n",
      "1\n",
      "5\n",
      "===============結束\n",
      "10的因數是:\n",
      "1\n",
      "2\n",
      "5\n",
      "10\n",
      "===============結束\n",
      "15的因數是:\n",
      "1\n",
      "3\n",
      "5\n",
      "15\n",
      "===============結束\n",
      "20的因數是:\n",
      "1\n",
      "2\n",
      "4\n",
      "5\n",
      "10\n",
      "20\n",
      "===============結束\n"
     ]
    }
   ],
   "source": [
    "\n",
    "for num in  [5,10,15,20] : #list\n",
    "    get_factor(num) #叫出function代入list"
   ]
  }
 ],
 "metadata": {
  "kernelspec": {
   "display_name": "Python 3",
   "language": "python",
   "name": "python3"
  },
  "language_info": {
   "codemirror_mode": {
    "name": "ipython",
    "version": 3
   },
   "file_extension": ".py",
   "mimetype": "text/x-python",
   "name": "python",
   "nbconvert_exporter": "python",
   "pygments_lexer": "ipython3",
   "version": "3.9.16"
  },
  "orig_nbformat": 4
 },
 "nbformat": 4,
 "nbformat_minor": 2
}
