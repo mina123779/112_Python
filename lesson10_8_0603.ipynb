{
 "cells": [
  {
   "cell_type": "code",
   "execution_count": 3,
   "metadata": {},
   "outputs": [
    {
     "name": "stdout",
     "output_type": "stream",
     "text": [
      "連線成功\n",
      "<class 'list'>\n"
     ]
    },
    {
     "data": {
      "text/plain": [
       "['中山區',\n",
       " '中正區',\n",
       " '信義區',\n",
       " '內湖區',\n",
       " '北投區',\n",
       " '南港區',\n",
       " '士林區',\n",
       " '大同區',\n",
       " '大安區',\n",
       " '文山區',\n",
       " '松山區',\n",
       " '臺大公館校區',\n",
       " '臺大專區',\n",
       " '萬華區']"
      ]
     },
     "execution_count": 3,
     "metadata": {},
     "output_type": "execute_result"
    }
   ],
   "source": [
    "import requests\n",
    "import pandas as pd\n",
    "\n",
    "\n",
    "url = 'https://tcgbusfs.blob.core.windows.net/dotapp/youbike/v2/youbike_immediate.json'\n",
    "response = requests.request('GET',url)\n",
    "if response.status_code == 200:\n",
    "    print(\"連線成功\")\n",
    "    all_data = response.json()\n",
    "    print(type(all_data))\n",
    "else:\n",
    "    print(f\"連線失敗:{response.status_code}\")\n",
    "\n",
    "\n",
    "\n",
    "dataFrame = pd.DataFrame(data=all_data,columns=['sna','tot','sbi','sarea','mday','ar','bemp','act'])\n",
    "\n",
    "dataFrame.columns = [\"站點名稱\",\"車數\",\"可借\",\"行政區\",\"時間\",\"地址\",\"可還\",\"狀態\"]\n",
    "dataFrame1 = dataFrame.set_index(\"站點名稱\")\n",
    "\n",
    "mask = (dataFrame1['可借'] <= 10) & (dataFrame1['可借'] >= 5)\n",
    "mask_dataFrame = dataFrame1[mask]\n",
    "count = mask_dataFrame[\"車數\"].count()\n",
    "\n",
    "\n",
    "group_data = dataFrame.groupby('行政區').sum()\n",
    "areas = group_data.index.to_numpy().tolist()\n",
    "areas"
   ]
  }
 ],
 "metadata": {
  "kernelspec": {
   "display_name": "Python 3",
   "language": "python",
   "name": "python3"
  },
  "language_info": {
   "codemirror_mode": {
    "name": "ipython",
    "version": 3
   },
   "file_extension": ".py",
   "mimetype": "text/x-python",
   "name": "python",
   "nbconvert_exporter": "python",
   "pygments_lexer": "ipython3",
   "version": "3.10.11"
  },
  "orig_nbformat": 4
 },
 "nbformat": 4,
 "nbformat_minor": 2
}
